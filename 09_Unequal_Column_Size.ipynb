{
  "nbformat": 4,
  "nbformat_minor": 0,
  "metadata": {
    "colab": {
      "name": "09_Unequal_Column_Size.ipynb",
      "provenance": [],
      "collapsed_sections": []
    },
    "kernelspec": {
      "name": "python3",
      "display_name": "Python 3"
    }
  },
  "cells": [
    {
      "cell_type": "markdown",
      "metadata": {
        "id": "x5SyVh-hXXvT",
        "colab_type": "text"
      },
      "source": [
        "# **Combine Single value and List in a Single DataFrame**"
      ]
    },
    {
      "cell_type": "code",
      "metadata": {
        "id": "ZKjCiD5-Up3B",
        "colab_type": "code",
        "colab": {
          "base_uri": "https://localhost:8080/",
          "height": 85
        },
        "outputId": "75272f71-a5db-48a4-9297-81e998465e2d"
      },
      "source": [
        "import pandas as pd\n",
        "\n",
        "image_array = ['foo.jpg', 'bar.jpg', 'baz.jpg']\n",
        "text_array = [['a','b','c', 'd', 'e'], ['f', 'g'], ['h','i', 'j', 'k']]\n",
        "\n",
        "\n",
        "df=pd.DataFrame(image_array, columns=['Image'])\n",
        "df = pd.concat([df, pd.Series(text_array, name='Text')], axis=1)\n",
        "print(df)"
      ],
      "execution_count": 5,
      "outputs": [
        {
          "output_type": "stream",
          "text": [
            "     Image             Text\n",
            "0  foo.jpg  [a, b, c, d, e]\n",
            "1  bar.jpg           [f, g]\n",
            "2  baz.jpg     [h, i, j, k]\n"
          ],
          "name": "stdout"
        }
      ]
    }
  ]
}