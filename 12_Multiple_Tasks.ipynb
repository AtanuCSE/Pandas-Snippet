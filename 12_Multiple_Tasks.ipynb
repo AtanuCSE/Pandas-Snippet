{
  "nbformat": 4,
  "nbformat_minor": 0,
  "metadata": {
    "colab": {
      "name": "12_Multiple_Tasks.ipynb",
      "provenance": [],
      "collapsed_sections": []
    },
    "kernelspec": {
      "name": "python3",
      "display_name": "Python 3"
    }
  },
  "cells": [
    {
      "cell_type": "markdown",
      "metadata": {
        "id": "lk4qPscwym2f",
        "colab_type": "text"
      },
      "source": [
        "* Only Alpha-Numeric Values\n",
        "* Right Outer Join\n",
        "* Multiple Column to Tuple\n",
        "* Value Assign based on Condition on Another Column"
      ]
    },
    {
      "cell_type": "markdown",
      "metadata": {
        "id": "2qAvfHGFYCWB",
        "colab_type": "text"
      },
      "source": [
        "# **Only Alpha-Numeric Values**"
      ]
    },
    {
      "cell_type": "code",
      "metadata": {
        "id": "AgzCe4f_XuGt",
        "colab_type": "code",
        "colab": {}
      },
      "source": [
        "import pandas as pd"
      ],
      "execution_count": 1,
      "outputs": []
    },
    {
      "cell_type": "code",
      "metadata": {
        "id": "xNcT2bg4XwvC",
        "colab_type": "code",
        "colab": {
          "base_uri": "https://localhost:8080/",
          "height": 204
        },
        "outputId": "52179b56-fc41-4d4d-fc0a-54a8e95a5020"
      },
      "source": [
        "df = pd.DataFrame(data={'TITLE': ['fox!@', 'Kangaroo12###', 'deer',\n",
        "                                   'spider', 'fox'],\n",
        "                        'ABSTRACT': ['fox', 'Kangaroo$%%', 'deer',\n",
        "                                   'spider', 'fox']})\n",
        "df"
      ],
      "execution_count": 2,
      "outputs": [
        {
          "output_type": "execute_result",
          "data": {
            "text/html": [
              "<div>\n",
              "<style scoped>\n",
              "    .dataframe tbody tr th:only-of-type {\n",
              "        vertical-align: middle;\n",
              "    }\n",
              "\n",
              "    .dataframe tbody tr th {\n",
              "        vertical-align: top;\n",
              "    }\n",
              "\n",
              "    .dataframe thead th {\n",
              "        text-align: right;\n",
              "    }\n",
              "</style>\n",
              "<table border=\"1\" class=\"dataframe\">\n",
              "  <thead>\n",
              "    <tr style=\"text-align: right;\">\n",
              "      <th></th>\n",
              "      <th>TITLE</th>\n",
              "      <th>ABSTRACT</th>\n",
              "    </tr>\n",
              "  </thead>\n",
              "  <tbody>\n",
              "    <tr>\n",
              "      <th>0</th>\n",
              "      <td>fox!@</td>\n",
              "      <td>fox</td>\n",
              "    </tr>\n",
              "    <tr>\n",
              "      <th>1</th>\n",
              "      <td>Kangaroo12###</td>\n",
              "      <td>Kangaroo$%%</td>\n",
              "    </tr>\n",
              "    <tr>\n",
              "      <th>2</th>\n",
              "      <td>deer</td>\n",
              "      <td>deer</td>\n",
              "    </tr>\n",
              "    <tr>\n",
              "      <th>3</th>\n",
              "      <td>spider</td>\n",
              "      <td>spider</td>\n",
              "    </tr>\n",
              "    <tr>\n",
              "      <th>4</th>\n",
              "      <td>fox</td>\n",
              "      <td>fox</td>\n",
              "    </tr>\n",
              "  </tbody>\n",
              "</table>\n",
              "</div>"
            ],
            "text/plain": [
              "           TITLE     ABSTRACT\n",
              "0          fox!@          fox\n",
              "1  Kangaroo12###  Kangaroo$%%\n",
              "2           deer         deer\n",
              "3         spider       spider\n",
              "4            fox          fox"
            ]
          },
          "metadata": {
            "tags": []
          },
          "execution_count": 2
        }
      ]
    },
    {
      "cell_type": "code",
      "metadata": {
        "id": "hdSWfIbRX6lh",
        "colab_type": "code",
        "colab": {
          "base_uri": "https://localhost:8080/",
          "height": 204
        },
        "outputId": "590182eb-9346-47e1-8db5-74afaf5b0d84"
      },
      "source": [
        "df['TITLE'] = df.TITLE.str.replace('[^a-zA-Z]', '')\n",
        "df['ABSTRACT'] = df.ABSTRACT.str.replace('[^a-zA-Z]', '')\n",
        "df"
      ],
      "execution_count": 3,
      "outputs": [
        {
          "output_type": "execute_result",
          "data": {
            "text/html": [
              "<div>\n",
              "<style scoped>\n",
              "    .dataframe tbody tr th:only-of-type {\n",
              "        vertical-align: middle;\n",
              "    }\n",
              "\n",
              "    .dataframe tbody tr th {\n",
              "        vertical-align: top;\n",
              "    }\n",
              "\n",
              "    .dataframe thead th {\n",
              "        text-align: right;\n",
              "    }\n",
              "</style>\n",
              "<table border=\"1\" class=\"dataframe\">\n",
              "  <thead>\n",
              "    <tr style=\"text-align: right;\">\n",
              "      <th></th>\n",
              "      <th>TITLE</th>\n",
              "      <th>ABSTRACT</th>\n",
              "    </tr>\n",
              "  </thead>\n",
              "  <tbody>\n",
              "    <tr>\n",
              "      <th>0</th>\n",
              "      <td>fox</td>\n",
              "      <td>fox</td>\n",
              "    </tr>\n",
              "    <tr>\n",
              "      <th>1</th>\n",
              "      <td>Kangaroo</td>\n",
              "      <td>Kangaroo</td>\n",
              "    </tr>\n",
              "    <tr>\n",
              "      <th>2</th>\n",
              "      <td>deer</td>\n",
              "      <td>deer</td>\n",
              "    </tr>\n",
              "    <tr>\n",
              "      <th>3</th>\n",
              "      <td>spider</td>\n",
              "      <td>spider</td>\n",
              "    </tr>\n",
              "    <tr>\n",
              "      <th>4</th>\n",
              "      <td>fox</td>\n",
              "      <td>fox</td>\n",
              "    </tr>\n",
              "  </tbody>\n",
              "</table>\n",
              "</div>"
            ],
            "text/plain": [
              "      TITLE  ABSTRACT\n",
              "0       fox       fox\n",
              "1  Kangaroo  Kangaroo\n",
              "2      deer      deer\n",
              "3    spider    spider\n",
              "4       fox       fox"
            ]
          },
          "metadata": {
            "tags": []
          },
          "execution_count": 3
        }
      ]
    },
    {
      "cell_type": "markdown",
      "metadata": {
        "id": "2nEaHgldeMFF",
        "colab_type": "text"
      },
      "source": [
        "# **Right Outer Join**"
      ]
    },
    {
      "cell_type": "code",
      "metadata": {
        "id": "AKFCsG53c9dr",
        "colab_type": "code",
        "colab": {
          "base_uri": "https://localhost:8080/",
          "height": 85
        },
        "outputId": "1a7483f9-ed38-4a5f-a319-59a6583e5843"
      },
      "source": [
        "df1 = pd.DataFrame([[\"John Doe\",\"14-3-1999\",\"12\"],\n",
        "                [\"Jane Doe\",\"15-6-1995\",\"3\"]], columns=[\"Player\",\"Birthday\",\"2010\"])\n",
        "#print(df1)\n",
        "df2 = pd.DataFrame([[\"John Doe\", \"2\"],[\"Jane Doe\", \"1\"], [\"Alice\", \"3\"]], columns=[\"Player\",\"2011\"])\n",
        "\n",
        "#print(df2)\n",
        "\n",
        "df3 = pd.merge(df1, df2, how=\"right\", on=\"Player\")\n",
        "print(df3)"
      ],
      "execution_count": 10,
      "outputs": [
        {
          "output_type": "stream",
          "text": [
            "     Player   Birthday 2010 2011\n",
            "0  John Doe  14-3-1999   12    2\n",
            "1  Jane Doe  15-6-1995    3    1\n",
            "2     Alice        NaN  NaN    3\n"
          ],
          "name": "stdout"
        }
      ]
    },
    {
      "cell_type": "markdown",
      "metadata": {
        "id": "jl75m6nZtZ1l",
        "colab_type": "text"
      },
      "source": [
        "# **Multiple Column to Tuple**"
      ]
    },
    {
      "cell_type": "code",
      "metadata": {
        "id": "GjPceBg1jMax",
        "colab_type": "code",
        "colab": {
          "base_uri": "https://localhost:8080/",
          "height": 204
        },
        "outputId": "42a2a498-5856-4aa8-d595-ed8c0d1748ec"
      },
      "source": [
        "df = pd.DataFrame({'id': [1,2,3,3,3], 'v1': ['a', 'a', 'c', 'c', 'd'], 'v2': ['z', 'y', 'w', 'y', 'z']})\n",
        "df"
      ],
      "execution_count": 24,
      "outputs": [
        {
          "output_type": "execute_result",
          "data": {
            "text/html": [
              "<div>\n",
              "<style scoped>\n",
              "    .dataframe tbody tr th:only-of-type {\n",
              "        vertical-align: middle;\n",
              "    }\n",
              "\n",
              "    .dataframe tbody tr th {\n",
              "        vertical-align: top;\n",
              "    }\n",
              "\n",
              "    .dataframe thead th {\n",
              "        text-align: right;\n",
              "    }\n",
              "</style>\n",
              "<table border=\"1\" class=\"dataframe\">\n",
              "  <thead>\n",
              "    <tr style=\"text-align: right;\">\n",
              "      <th></th>\n",
              "      <th>id</th>\n",
              "      <th>v1</th>\n",
              "      <th>v2</th>\n",
              "    </tr>\n",
              "  </thead>\n",
              "  <tbody>\n",
              "    <tr>\n",
              "      <th>0</th>\n",
              "      <td>1</td>\n",
              "      <td>a</td>\n",
              "      <td>z</td>\n",
              "    </tr>\n",
              "    <tr>\n",
              "      <th>1</th>\n",
              "      <td>2</td>\n",
              "      <td>a</td>\n",
              "      <td>y</td>\n",
              "    </tr>\n",
              "    <tr>\n",
              "      <th>2</th>\n",
              "      <td>3</td>\n",
              "      <td>c</td>\n",
              "      <td>w</td>\n",
              "    </tr>\n",
              "    <tr>\n",
              "      <th>3</th>\n",
              "      <td>3</td>\n",
              "      <td>c</td>\n",
              "      <td>y</td>\n",
              "    </tr>\n",
              "    <tr>\n",
              "      <th>4</th>\n",
              "      <td>3</td>\n",
              "      <td>d</td>\n",
              "      <td>z</td>\n",
              "    </tr>\n",
              "  </tbody>\n",
              "</table>\n",
              "</div>"
            ],
            "text/plain": [
              "   id v1 v2\n",
              "0   1  a  z\n",
              "1   2  a  y\n",
              "2   3  c  w\n",
              "3   3  c  y\n",
              "4   3  d  z"
            ]
          },
          "metadata": {
            "tags": []
          },
          "execution_count": 24
        }
      ]
    },
    {
      "cell_type": "code",
      "metadata": {
        "id": "xKYi7gGjjN1F",
        "colab_type": "code",
        "colab": {}
      },
      "source": [
        "df['New'] = [tuple(x) for x in df[['v1','v2']].to_records(index=False)]"
      ],
      "execution_count": 30,
      "outputs": []
    },
    {
      "cell_type": "code",
      "metadata": {
        "id": "O-VQa3GBj0Di",
        "colab_type": "code",
        "colab": {}
      },
      "source": [
        "df=df[['id','New']]"
      ],
      "execution_count": 31,
      "outputs": []
    },
    {
      "cell_type": "code",
      "metadata": {
        "id": "44c-dtY7j4NI",
        "colab_type": "code",
        "colab": {
          "base_uri": "https://localhost:8080/",
          "height": 34
        },
        "outputId": "ca848274-cb6f-43b5-cd33-f14288954e07"
      },
      "source": [
        "df=df.set_index('id')\n",
        "df.to_dict()"
      ],
      "execution_count": 33,
      "outputs": [
        {
          "output_type": "execute_result",
          "data": {
            "text/plain": [
              "{'New': {1: ('a', 'z'), 2: ('a', 'y'), 3: ('d', 'z')}}"
            ]
          },
          "metadata": {
            "tags": []
          },
          "execution_count": 33
        }
      ]
    },
    {
      "cell_type": "markdown",
      "metadata": {
        "id": "TdYuUbp_tipj",
        "colab_type": "text"
      },
      "source": [
        "# **Value Assign based on Condition on Another Column**"
      ]
    },
    {
      "cell_type": "code",
      "metadata": {
        "id": "aI3kd0msl4dM",
        "colab_type": "code",
        "colab": {
          "base_uri": "https://localhost:8080/",
          "height": 235
        },
        "outputId": "b763292d-cb2a-42d8-b842-0a48bf0d1bf2"
      },
      "source": [
        "data = {'Category': [86,23,32,13,45,12]}\n",
        "df = pd.DataFrame (data, columns = ['Category'], index=['I1', 'I2','I3','I4','I5','I6'])\n",
        "df"
      ],
      "execution_count": 49,
      "outputs": [
        {
          "output_type": "execute_result",
          "data": {
            "text/html": [
              "<div>\n",
              "<style scoped>\n",
              "    .dataframe tbody tr th:only-of-type {\n",
              "        vertical-align: middle;\n",
              "    }\n",
              "\n",
              "    .dataframe tbody tr th {\n",
              "        vertical-align: top;\n",
              "    }\n",
              "\n",
              "    .dataframe thead th {\n",
              "        text-align: right;\n",
              "    }\n",
              "</style>\n",
              "<table border=\"1\" class=\"dataframe\">\n",
              "  <thead>\n",
              "    <tr style=\"text-align: right;\">\n",
              "      <th></th>\n",
              "      <th>Category</th>\n",
              "    </tr>\n",
              "  </thead>\n",
              "  <tbody>\n",
              "    <tr>\n",
              "      <th>I1</th>\n",
              "      <td>86</td>\n",
              "    </tr>\n",
              "    <tr>\n",
              "      <th>I2</th>\n",
              "      <td>23</td>\n",
              "    </tr>\n",
              "    <tr>\n",
              "      <th>I3</th>\n",
              "      <td>32</td>\n",
              "    </tr>\n",
              "    <tr>\n",
              "      <th>I4</th>\n",
              "      <td>13</td>\n",
              "    </tr>\n",
              "    <tr>\n",
              "      <th>I5</th>\n",
              "      <td>45</td>\n",
              "    </tr>\n",
              "    <tr>\n",
              "      <th>I6</th>\n",
              "      <td>12</td>\n",
              "    </tr>\n",
              "  </tbody>\n",
              "</table>\n",
              "</div>"
            ],
            "text/plain": [
              "    Category\n",
              "I1        86\n",
              "I2        23\n",
              "I3        32\n",
              "I4        13\n",
              "I5        45\n",
              "I6        12"
            ]
          },
          "metadata": {
            "tags": []
          },
          "execution_count": 49
        }
      ]
    },
    {
      "cell_type": "code",
      "metadata": {
        "id": "NyoiQiOfmCpo",
        "colab_type": "code",
        "colab": {
          "base_uri": "https://localhost:8080/",
          "height": 235
        },
        "outputId": "56a0ac1d-0faf-4438-8135-23b67ab5f65e"
      },
      "source": [
        "df = df.reset_index()\n",
        "df['Class'] = 'Other'\n",
        "for i,e in enumerate(df['Average_Sales']):\n",
        "  if e < 30:\n",
        "    df.at[i,'Category'] = 'low'\n",
        "\n",
        "df"
      ],
      "execution_count": 50,
      "outputs": [
        {
          "output_type": "execute_result",
          "data": {
            "text/html": [
              "<div>\n",
              "<style scoped>\n",
              "    .dataframe tbody tr th:only-of-type {\n",
              "        vertical-align: middle;\n",
              "    }\n",
              "\n",
              "    .dataframe tbody tr th {\n",
              "        vertical-align: top;\n",
              "    }\n",
              "\n",
              "    .dataframe thead th {\n",
              "        text-align: right;\n",
              "    }\n",
              "</style>\n",
              "<table border=\"1\" class=\"dataframe\">\n",
              "  <thead>\n",
              "    <tr style=\"text-align: right;\">\n",
              "      <th></th>\n",
              "      <th>index</th>\n",
              "      <th>Category</th>\n",
              "      <th>Class</th>\n",
              "    </tr>\n",
              "  </thead>\n",
              "  <tbody>\n",
              "    <tr>\n",
              "      <th>0</th>\n",
              "      <td>I1</td>\n",
              "      <td>86</td>\n",
              "      <td>Other</td>\n",
              "    </tr>\n",
              "    <tr>\n",
              "      <th>1</th>\n",
              "      <td>I2</td>\n",
              "      <td>23</td>\n",
              "      <td>low</td>\n",
              "    </tr>\n",
              "    <tr>\n",
              "      <th>2</th>\n",
              "      <td>I3</td>\n",
              "      <td>32</td>\n",
              "      <td>Other</td>\n",
              "    </tr>\n",
              "    <tr>\n",
              "      <th>3</th>\n",
              "      <td>I4</td>\n",
              "      <td>13</td>\n",
              "      <td>low</td>\n",
              "    </tr>\n",
              "    <tr>\n",
              "      <th>4</th>\n",
              "      <td>I5</td>\n",
              "      <td>45</td>\n",
              "      <td>Other</td>\n",
              "    </tr>\n",
              "    <tr>\n",
              "      <th>5</th>\n",
              "      <td>I6</td>\n",
              "      <td>12</td>\n",
              "      <td>low</td>\n",
              "    </tr>\n",
              "  </tbody>\n",
              "</table>\n",
              "</div>"
            ],
            "text/plain": [
              "  index  Category  Class\n",
              "0    I1        86  Other\n",
              "1    I2        23    low\n",
              "2    I3        32  Other\n",
              "3    I4        13    low\n",
              "4    I5        45  Other\n",
              "5    I6        12    low"
            ]
          },
          "metadata": {
            "tags": []
          },
          "execution_count": 50
        }
      ]
    }
  ]
}