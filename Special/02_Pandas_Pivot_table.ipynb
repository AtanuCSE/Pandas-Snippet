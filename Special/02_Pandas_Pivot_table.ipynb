{
  "nbformat": 4,
  "nbformat_minor": 0,
  "metadata": {
    "colab": {
      "name": "15_Pandas_Pivot_table.ipynb",
      "provenance": [],
      "collapsed_sections": []
    },
    "kernelspec": {
      "name": "python3",
      "display_name": "Python 3"
    }
  },
  "cells": [
    {
      "cell_type": "markdown",
      "metadata": {
        "id": "uzAXUSnS6jAR",
        "colab_type": "text"
      },
      "source": [
        "**Topic**\n",
        "\n",
        "* Simple Pivot\n",
        "  - Rearrange row to column\n",
        "* Pivot Table\n",
        "  - Row to Column and Apply Functions\n",
        "  - Reset Index and Header\n",
        "* Multiple Aggregate Function\n",
        "* Pivot Table with Multiple Index\n",
        "* Different Agg Function on Different Columns"
      ]
    },
    {
      "cell_type": "code",
      "metadata": {
        "id": "kS766oo16e4B",
        "colab_type": "code",
        "colab": {}
      },
      "source": [
        "import pandas as pd\n",
        "import matplotlib.pyplot as plt"
      ],
      "execution_count": 1,
      "outputs": []
    },
    {
      "cell_type": "code",
      "metadata": {
        "id": "Wf9a7qZa62iK",
        "colab_type": "code",
        "colab": {
          "base_uri": "https://localhost:8080/",
          "height": 119
        },
        "outputId": "6c20eb4d-6ed6-450e-cf9c-a0285a1db41c"
      },
      "source": [
        "df = pd.read_csv('Price2.csv')\n",
        "print(df.head())"
      ],
      "execution_count": 2,
      "outputs": [
        {
          "output_type": "stream",
          "text": [
            "  Month  Year  Money\n",
            "0   Jan  2002    615\n",
            "1   Feb  2002    756\n",
            "2   Mar  2002    455\n",
            "3   Apr  2002    645\n",
            "4   May  2002    669\n"
          ],
          "name": "stdout"
        }
      ]
    },
    {
      "cell_type": "markdown",
      "metadata": {
        "id": "yy2FmL_67LZ4",
        "colab_type": "text"
      },
      "source": [
        "# **Simple Pivot**\n",
        "- Rearrange row to column"
      ]
    },
    {
      "cell_type": "code",
      "metadata": {
        "id": "LSkfSYQw65mu",
        "colab_type": "code",
        "colab": {
          "base_uri": "https://localhost:8080/",
          "height": 255
        },
        "outputId": "a94f59bb-632c-47ad-ae11-22e05114aa81"
      },
      "source": [
        "data = df.pivot('Month', 'Year', 'Money')\n",
        "print(data)"
      ],
      "execution_count": 3,
      "outputs": [
        {
          "output_type": "stream",
          "text": [
            "Year   2002  2003  2004  2005\n",
            "Month                        \n",
            "Apr     645   709   178   800\n",
            "Aug     217   867   515   748\n",
            "Dec     179   230   121   905\n",
            "Feb     756   717   879   772\n",
            "Jan     615   329   896   108\n",
            "Jul     157   391   429   699\n",
            "Jun     913   887   422   537\n",
            "Mar     455   278   934   906\n",
            "May     669   995   726   324\n",
            "Nov     847   536   151   195\n",
            "Oct     321   950   278   173\n",
            "Sep     985   459   915   437\n"
          ],
          "name": "stdout"
        }
      ]
    },
    {
      "cell_type": "markdown",
      "metadata": {
        "id": "SGgjERSF7XOp",
        "colab_type": "text"
      },
      "source": [
        "# **Pivot Table**\n",
        "- Row to Column and Apply Functions\n",
        "- Reset Index and Header"
      ]
    },
    {
      "cell_type": "code",
      "metadata": {
        "id": "s57i78MQ7kdW",
        "colab_type": "code",
        "colab": {
          "base_uri": "https://localhost:8080/",
          "height": 238
        },
        "outputId": "7de2866e-dfbb-4692-e3f2-fcd64e01713a"
      },
      "source": [
        "data=pd.pivot_table(df,index=['Month'],columns='Year',values='Money',aggfunc='mean').reset_index()\n",
        "print(data)"
      ],
      "execution_count": 5,
      "outputs": [
        {
          "output_type": "stream",
          "text": [
            "Year Month  2002  2003  2004  2005\n",
            "0      Apr   645   709   178   800\n",
            "1      Aug   217   867   515   748\n",
            "2      Dec   179   230   121   905\n",
            "3      Feb   756   717   879   772\n",
            "4      Jan   615   329   896   108\n",
            "5      Jul   157   391   429   699\n",
            "6      Jun   913   887   422   537\n",
            "7      Mar   455   278   934   906\n",
            "8      May   669   995   726   324\n",
            "9      Nov   847   536   151   195\n",
            "10     Oct   321   950   278   173\n",
            "11     Sep   985   459   915   437\n"
          ],
          "name": "stdout"
        }
      ]
    },
    {
      "cell_type": "markdown",
      "metadata": {
        "id": "rZLm4nKA8v10",
        "colab_type": "text"
      },
      "source": [
        "### **Another Example**"
      ]
    },
    {
      "cell_type": "code",
      "metadata": {
        "id": "gC1VtC8p8uhY",
        "colab_type": "code",
        "colab": {
          "base_uri": "https://localhost:8080/",
          "height": 359
        },
        "outputId": "4dfcadd1-6c40-4dca-861d-ae4cf35be129"
      },
      "source": [
        "data = ('State         AwardYear    0\\n'\n",
        "'Alabama        2003      89\\n'\n",
        "'Alabama        2004      92\\n'\n",
        "'Alabama        2005      108\\n'\n",
        "'Alabama        2006      81\\n'\n",
        "'Alabama        2007      71\\n'\n",
        "'Wyoming        2011      4\\n'\n",
        "'Wyoming        2012      2\\n'\n",
        "'Wyoming        2013      1\\n'\n",
        "'Wyoming        2014      4\\n'\n",
        "'Wyoming        2015       3\\n')\n",
        "\n",
        "from io import StringIO\n",
        "df = pd.read_fwf(StringIO(data))\n",
        "df"
      ],
      "execution_count": 6,
      "outputs": [
        {
          "output_type": "execute_result",
          "data": {
            "text/html": [
              "<div>\n",
              "<style scoped>\n",
              "    .dataframe tbody tr th:only-of-type {\n",
              "        vertical-align: middle;\n",
              "    }\n",
              "\n",
              "    .dataframe tbody tr th {\n",
              "        vertical-align: top;\n",
              "    }\n",
              "\n",
              "    .dataframe thead th {\n",
              "        text-align: right;\n",
              "    }\n",
              "</style>\n",
              "<table border=\"1\" class=\"dataframe\">\n",
              "  <thead>\n",
              "    <tr style=\"text-align: right;\">\n",
              "      <th></th>\n",
              "      <th>State</th>\n",
              "      <th>AwardYear</th>\n",
              "      <th>0</th>\n",
              "    </tr>\n",
              "  </thead>\n",
              "  <tbody>\n",
              "    <tr>\n",
              "      <th>0</th>\n",
              "      <td>Alabama</td>\n",
              "      <td>2003</td>\n",
              "      <td>89</td>\n",
              "    </tr>\n",
              "    <tr>\n",
              "      <th>1</th>\n",
              "      <td>Alabama</td>\n",
              "      <td>2004</td>\n",
              "      <td>92</td>\n",
              "    </tr>\n",
              "    <tr>\n",
              "      <th>2</th>\n",
              "      <td>Alabama</td>\n",
              "      <td>2005</td>\n",
              "      <td>108</td>\n",
              "    </tr>\n",
              "    <tr>\n",
              "      <th>3</th>\n",
              "      <td>Alabama</td>\n",
              "      <td>2006</td>\n",
              "      <td>81</td>\n",
              "    </tr>\n",
              "    <tr>\n",
              "      <th>4</th>\n",
              "      <td>Alabama</td>\n",
              "      <td>2007</td>\n",
              "      <td>71</td>\n",
              "    </tr>\n",
              "    <tr>\n",
              "      <th>5</th>\n",
              "      <td>Wyoming</td>\n",
              "      <td>2011</td>\n",
              "      <td>4</td>\n",
              "    </tr>\n",
              "    <tr>\n",
              "      <th>6</th>\n",
              "      <td>Wyoming</td>\n",
              "      <td>2012</td>\n",
              "      <td>2</td>\n",
              "    </tr>\n",
              "    <tr>\n",
              "      <th>7</th>\n",
              "      <td>Wyoming</td>\n",
              "      <td>2013</td>\n",
              "      <td>1</td>\n",
              "    </tr>\n",
              "    <tr>\n",
              "      <th>8</th>\n",
              "      <td>Wyoming</td>\n",
              "      <td>2014</td>\n",
              "      <td>4</td>\n",
              "    </tr>\n",
              "    <tr>\n",
              "      <th>9</th>\n",
              "      <td>Wyoming</td>\n",
              "      <td>2015</td>\n",
              "      <td>3</td>\n",
              "    </tr>\n",
              "  </tbody>\n",
              "</table>\n",
              "</div>"
            ],
            "text/plain": [
              "     State  AwardYear    0\n",
              "0  Alabama       2003   89\n",
              "1  Alabama       2004   92\n",
              "2  Alabama       2005  108\n",
              "3  Alabama       2006   81\n",
              "4  Alabama       2007   71\n",
              "5  Wyoming       2011    4\n",
              "6  Wyoming       2012    2\n",
              "7  Wyoming       2013    1\n",
              "8  Wyoming       2014    4\n",
              "9  Wyoming       2015    3"
            ]
          },
          "metadata": {
            "tags": []
          },
          "execution_count": 6
        }
      ]
    },
    {
      "cell_type": "code",
      "metadata": {
        "id": "hX1Odrah85qS",
        "colab_type": "code",
        "colab": {
          "base_uri": "https://localhost:8080/",
          "height": 142
        },
        "outputId": "f9ac918b-082f-4876-ced7-7656dd88c768"
      },
      "source": [
        "df2 = pd.pivot_table(df,values='0', columns='AwardYear', index=['State'])\n",
        "df2"
      ],
      "execution_count": 7,
      "outputs": [
        {
          "output_type": "execute_result",
          "data": {
            "text/html": [
              "<div>\n",
              "<style scoped>\n",
              "    .dataframe tbody tr th:only-of-type {\n",
              "        vertical-align: middle;\n",
              "    }\n",
              "\n",
              "    .dataframe tbody tr th {\n",
              "        vertical-align: top;\n",
              "    }\n",
              "\n",
              "    .dataframe thead th {\n",
              "        text-align: right;\n",
              "    }\n",
              "</style>\n",
              "<table border=\"1\" class=\"dataframe\">\n",
              "  <thead>\n",
              "    <tr style=\"text-align: right;\">\n",
              "      <th>AwardYear</th>\n",
              "      <th>2003</th>\n",
              "      <th>2004</th>\n",
              "      <th>2005</th>\n",
              "      <th>2006</th>\n",
              "      <th>2007</th>\n",
              "      <th>2011</th>\n",
              "      <th>2012</th>\n",
              "      <th>2013</th>\n",
              "      <th>2014</th>\n",
              "      <th>2015</th>\n",
              "    </tr>\n",
              "    <tr>\n",
              "      <th>State</th>\n",
              "      <th></th>\n",
              "      <th></th>\n",
              "      <th></th>\n",
              "      <th></th>\n",
              "      <th></th>\n",
              "      <th></th>\n",
              "      <th></th>\n",
              "      <th></th>\n",
              "      <th></th>\n",
              "      <th></th>\n",
              "    </tr>\n",
              "  </thead>\n",
              "  <tbody>\n",
              "    <tr>\n",
              "      <th>Alabama</th>\n",
              "      <td>89.0</td>\n",
              "      <td>92.0</td>\n",
              "      <td>108.0</td>\n",
              "      <td>81.0</td>\n",
              "      <td>71.0</td>\n",
              "      <td>NaN</td>\n",
              "      <td>NaN</td>\n",
              "      <td>NaN</td>\n",
              "      <td>NaN</td>\n",
              "      <td>NaN</td>\n",
              "    </tr>\n",
              "    <tr>\n",
              "      <th>Wyoming</th>\n",
              "      <td>NaN</td>\n",
              "      <td>NaN</td>\n",
              "      <td>NaN</td>\n",
              "      <td>NaN</td>\n",
              "      <td>NaN</td>\n",
              "      <td>4.0</td>\n",
              "      <td>2.0</td>\n",
              "      <td>1.0</td>\n",
              "      <td>4.0</td>\n",
              "      <td>3.0</td>\n",
              "    </tr>\n",
              "  </tbody>\n",
              "</table>\n",
              "</div>"
            ],
            "text/plain": [
              "AwardYear  2003  2004   2005  2006  2007  2011  2012  2013  2014  2015\n",
              "State                                                                 \n",
              "Alabama    89.0  92.0  108.0  81.0  71.0   NaN   NaN   NaN   NaN   NaN\n",
              "Wyoming     NaN   NaN    NaN   NaN   NaN   4.0   2.0   1.0   4.0   3.0"
            ]
          },
          "metadata": {
            "tags": []
          },
          "execution_count": 7
        }
      ]
    },
    {
      "cell_type": "markdown",
      "metadata": {
        "id": "T1PDS3_Q9drC",
        "colab_type": "text"
      },
      "source": [
        "# **Multiple Aggregate Function**"
      ]
    },
    {
      "cell_type": "code",
      "metadata": {
        "id": "OgUOXK4o9dVb",
        "colab_type": "code",
        "colab": {
          "base_uri": "https://localhost:8080/",
          "height": 85
        },
        "outputId": "33253f8a-da1c-47d5-8bdc-10479a13f5fd"
      },
      "source": [
        "data_url = 'http://bit.ly/2cLzoxH'\n",
        "gapminder = pd.read_csv(data_url)\n",
        "print(gapminder.head(3))"
      ],
      "execution_count": 8,
      "outputs": [
        {
          "output_type": "stream",
          "text": [
            "       country  year         pop continent  lifeExp   gdpPercap\n",
            "0  Afghanistan  1952   8425333.0      Asia   28.801  779.445314\n",
            "1  Afghanistan  1957   9240934.0      Asia   30.332  820.853030\n",
            "2  Afghanistan  1962  10267083.0      Asia   31.997  853.100710\n"
          ],
          "name": "stdout"
        }
      ]
    },
    {
      "cell_type": "code",
      "metadata": {
        "id": "5OgtlZQ19oX3",
        "colab_type": "code",
        "colab": {
          "base_uri": "https://localhost:8080/",
          "height": 483
        },
        "outputId": "0904eb83-a5cc-44d7-c8a0-df749d883923"
      },
      "source": [
        "pd.pivot_table(gapminder, values='lifeExp',\n",
        "                     index=['year'],\n",
        "                     columns='continent',\n",
        "                     aggfunc=[min,max])"
      ],
      "execution_count": 10,
      "outputs": [
        {
          "output_type": "execute_result",
          "data": {
            "text/html": [
              "<div>\n",
              "<style scoped>\n",
              "    .dataframe tbody tr th:only-of-type {\n",
              "        vertical-align: middle;\n",
              "    }\n",
              "\n",
              "    .dataframe tbody tr th {\n",
              "        vertical-align: top;\n",
              "    }\n",
              "\n",
              "    .dataframe thead tr th {\n",
              "        text-align: left;\n",
              "    }\n",
              "\n",
              "    .dataframe thead tr:last-of-type th {\n",
              "        text-align: right;\n",
              "    }\n",
              "</style>\n",
              "<table border=\"1\" class=\"dataframe\">\n",
              "  <thead>\n",
              "    <tr>\n",
              "      <th></th>\n",
              "      <th colspan=\"5\" halign=\"left\">min</th>\n",
              "      <th colspan=\"5\" halign=\"left\">max</th>\n",
              "    </tr>\n",
              "    <tr>\n",
              "      <th>continent</th>\n",
              "      <th>Africa</th>\n",
              "      <th>Americas</th>\n",
              "      <th>Asia</th>\n",
              "      <th>Europe</th>\n",
              "      <th>Oceania</th>\n",
              "      <th>Africa</th>\n",
              "      <th>Americas</th>\n",
              "      <th>Asia</th>\n",
              "      <th>Europe</th>\n",
              "      <th>Oceania</th>\n",
              "    </tr>\n",
              "    <tr>\n",
              "      <th>year</th>\n",
              "      <th></th>\n",
              "      <th></th>\n",
              "      <th></th>\n",
              "      <th></th>\n",
              "      <th></th>\n",
              "      <th></th>\n",
              "      <th></th>\n",
              "      <th></th>\n",
              "      <th></th>\n",
              "      <th></th>\n",
              "    </tr>\n",
              "  </thead>\n",
              "  <tbody>\n",
              "    <tr>\n",
              "      <th>1952</th>\n",
              "      <td>30.000</td>\n",
              "      <td>37.579</td>\n",
              "      <td>28.801</td>\n",
              "      <td>43.585</td>\n",
              "      <td>69.120</td>\n",
              "      <td>52.724</td>\n",
              "      <td>68.750</td>\n",
              "      <td>65.390</td>\n",
              "      <td>72.670</td>\n",
              "      <td>69.390</td>\n",
              "    </tr>\n",
              "    <tr>\n",
              "      <th>1957</th>\n",
              "      <td>31.570</td>\n",
              "      <td>40.696</td>\n",
              "      <td>30.332</td>\n",
              "      <td>48.079</td>\n",
              "      <td>70.260</td>\n",
              "      <td>58.089</td>\n",
              "      <td>69.960</td>\n",
              "      <td>67.840</td>\n",
              "      <td>73.470</td>\n",
              "      <td>70.330</td>\n",
              "    </tr>\n",
              "    <tr>\n",
              "      <th>1962</th>\n",
              "      <td>32.767</td>\n",
              "      <td>43.428</td>\n",
              "      <td>31.997</td>\n",
              "      <td>52.098</td>\n",
              "      <td>70.930</td>\n",
              "      <td>60.246</td>\n",
              "      <td>71.300</td>\n",
              "      <td>69.390</td>\n",
              "      <td>73.680</td>\n",
              "      <td>71.240</td>\n",
              "    </tr>\n",
              "    <tr>\n",
              "      <th>1967</th>\n",
              "      <td>34.113</td>\n",
              "      <td>45.032</td>\n",
              "      <td>34.020</td>\n",
              "      <td>54.336</td>\n",
              "      <td>71.100</td>\n",
              "      <td>61.557</td>\n",
              "      <td>72.130</td>\n",
              "      <td>71.430</td>\n",
              "      <td>74.160</td>\n",
              "      <td>71.520</td>\n",
              "    </tr>\n",
              "    <tr>\n",
              "      <th>1972</th>\n",
              "      <td>35.400</td>\n",
              "      <td>46.714</td>\n",
              "      <td>36.088</td>\n",
              "      <td>57.005</td>\n",
              "      <td>71.890</td>\n",
              "      <td>64.274</td>\n",
              "      <td>72.880</td>\n",
              "      <td>73.420</td>\n",
              "      <td>74.720</td>\n",
              "      <td>71.930</td>\n",
              "    </tr>\n",
              "    <tr>\n",
              "      <th>1977</th>\n",
              "      <td>36.788</td>\n",
              "      <td>49.923</td>\n",
              "      <td>31.220</td>\n",
              "      <td>59.507</td>\n",
              "      <td>72.220</td>\n",
              "      <td>67.064</td>\n",
              "      <td>74.210</td>\n",
              "      <td>75.380</td>\n",
              "      <td>76.110</td>\n",
              "      <td>73.490</td>\n",
              "    </tr>\n",
              "    <tr>\n",
              "      <th>1982</th>\n",
              "      <td>38.445</td>\n",
              "      <td>51.461</td>\n",
              "      <td>39.854</td>\n",
              "      <td>61.036</td>\n",
              "      <td>73.840</td>\n",
              "      <td>69.885</td>\n",
              "      <td>75.760</td>\n",
              "      <td>77.110</td>\n",
              "      <td>76.990</td>\n",
              "      <td>74.740</td>\n",
              "    </tr>\n",
              "    <tr>\n",
              "      <th>1987</th>\n",
              "      <td>39.906</td>\n",
              "      <td>53.636</td>\n",
              "      <td>40.822</td>\n",
              "      <td>63.108</td>\n",
              "      <td>74.320</td>\n",
              "      <td>71.913</td>\n",
              "      <td>76.860</td>\n",
              "      <td>78.670</td>\n",
              "      <td>77.410</td>\n",
              "      <td>76.320</td>\n",
              "    </tr>\n",
              "    <tr>\n",
              "      <th>1992</th>\n",
              "      <td>23.599</td>\n",
              "      <td>55.089</td>\n",
              "      <td>41.674</td>\n",
              "      <td>66.146</td>\n",
              "      <td>76.330</td>\n",
              "      <td>73.615</td>\n",
              "      <td>77.950</td>\n",
              "      <td>79.360</td>\n",
              "      <td>78.770</td>\n",
              "      <td>77.560</td>\n",
              "    </tr>\n",
              "    <tr>\n",
              "      <th>1997</th>\n",
              "      <td>36.087</td>\n",
              "      <td>56.671</td>\n",
              "      <td>41.763</td>\n",
              "      <td>68.835</td>\n",
              "      <td>77.550</td>\n",
              "      <td>74.772</td>\n",
              "      <td>78.610</td>\n",
              "      <td>80.690</td>\n",
              "      <td>79.390</td>\n",
              "      <td>78.830</td>\n",
              "    </tr>\n",
              "    <tr>\n",
              "      <th>2002</th>\n",
              "      <td>39.193</td>\n",
              "      <td>58.137</td>\n",
              "      <td>42.129</td>\n",
              "      <td>70.845</td>\n",
              "      <td>79.110</td>\n",
              "      <td>75.744</td>\n",
              "      <td>79.770</td>\n",
              "      <td>82.000</td>\n",
              "      <td>80.620</td>\n",
              "      <td>80.370</td>\n",
              "    </tr>\n",
              "    <tr>\n",
              "      <th>2007</th>\n",
              "      <td>39.613</td>\n",
              "      <td>60.916</td>\n",
              "      <td>43.828</td>\n",
              "      <td>71.777</td>\n",
              "      <td>80.204</td>\n",
              "      <td>76.442</td>\n",
              "      <td>80.653</td>\n",
              "      <td>82.603</td>\n",
              "      <td>81.757</td>\n",
              "      <td>81.235</td>\n",
              "    </tr>\n",
              "  </tbody>\n",
              "</table>\n",
              "</div>"
            ],
            "text/plain": [
              "              min                           ...      max                        \n",
              "continent  Africa Americas    Asia  Europe  ... Americas    Asia  Europe Oceania\n",
              "year                                        ...                                 \n",
              "1952       30.000   37.579  28.801  43.585  ...   68.750  65.390  72.670  69.390\n",
              "1957       31.570   40.696  30.332  48.079  ...   69.960  67.840  73.470  70.330\n",
              "1962       32.767   43.428  31.997  52.098  ...   71.300  69.390  73.680  71.240\n",
              "1967       34.113   45.032  34.020  54.336  ...   72.130  71.430  74.160  71.520\n",
              "1972       35.400   46.714  36.088  57.005  ...   72.880  73.420  74.720  71.930\n",
              "1977       36.788   49.923  31.220  59.507  ...   74.210  75.380  76.110  73.490\n",
              "1982       38.445   51.461  39.854  61.036  ...   75.760  77.110  76.990  74.740\n",
              "1987       39.906   53.636  40.822  63.108  ...   76.860  78.670  77.410  76.320\n",
              "1992       23.599   55.089  41.674  66.146  ...   77.950  79.360  78.770  77.560\n",
              "1997       36.087   56.671  41.763  68.835  ...   78.610  80.690  79.390  78.830\n",
              "2002       39.193   58.137  42.129  70.845  ...   79.770  82.000  80.620  80.370\n",
              "2007       39.613   60.916  43.828  71.777  ...   80.653  82.603  81.757  81.235\n",
              "\n",
              "[12 rows x 10 columns]"
            ]
          },
          "metadata": {
            "tags": []
          },
          "execution_count": 10
        }
      ]
    },
    {
      "cell_type": "markdown",
      "metadata": {
        "id": "l_GYkF7Z-kbn",
        "colab_type": "text"
      },
      "source": [
        "# **Pivot Table with Multiple Index**"
      ]
    },
    {
      "cell_type": "code",
      "metadata": {
        "id": "Fc8uFj1l-qcL",
        "colab_type": "code",
        "colab": {
          "base_uri": "https://localhost:8080/",
          "height": 204
        },
        "outputId": "8d4424df-65dc-4d11-a255-be7b42d3b860"
      },
      "source": [
        "df = pd.read_csv('train.csv')\n",
        "df.head()\n",
        "df.drop(['PassengerId','Ticket','Name'], inplace=True, axis=1)\n",
        "df.head()"
      ],
      "execution_count": 13,
      "outputs": [
        {
          "output_type": "execute_result",
          "data": {
            "text/html": [
              "<div>\n",
              "<style scoped>\n",
              "    .dataframe tbody tr th:only-of-type {\n",
              "        vertical-align: middle;\n",
              "    }\n",
              "\n",
              "    .dataframe tbody tr th {\n",
              "        vertical-align: top;\n",
              "    }\n",
              "\n",
              "    .dataframe thead th {\n",
              "        text-align: right;\n",
              "    }\n",
              "</style>\n",
              "<table border=\"1\" class=\"dataframe\">\n",
              "  <thead>\n",
              "    <tr style=\"text-align: right;\">\n",
              "      <th></th>\n",
              "      <th>Survived</th>\n",
              "      <th>Pclass</th>\n",
              "      <th>Sex</th>\n",
              "      <th>Age</th>\n",
              "      <th>SibSp</th>\n",
              "      <th>Parch</th>\n",
              "      <th>Fare</th>\n",
              "      <th>Cabin</th>\n",
              "      <th>Embarked</th>\n",
              "    </tr>\n",
              "  </thead>\n",
              "  <tbody>\n",
              "    <tr>\n",
              "      <th>0</th>\n",
              "      <td>0</td>\n",
              "      <td>3</td>\n",
              "      <td>male</td>\n",
              "      <td>22.0</td>\n",
              "      <td>1</td>\n",
              "      <td>0</td>\n",
              "      <td>7.2500</td>\n",
              "      <td>NaN</td>\n",
              "      <td>S</td>\n",
              "    </tr>\n",
              "    <tr>\n",
              "      <th>1</th>\n",
              "      <td>1</td>\n",
              "      <td>1</td>\n",
              "      <td>female</td>\n",
              "      <td>38.0</td>\n",
              "      <td>1</td>\n",
              "      <td>0</td>\n",
              "      <td>71.2833</td>\n",
              "      <td>C85</td>\n",
              "      <td>C</td>\n",
              "    </tr>\n",
              "    <tr>\n",
              "      <th>2</th>\n",
              "      <td>1</td>\n",
              "      <td>3</td>\n",
              "      <td>female</td>\n",
              "      <td>26.0</td>\n",
              "      <td>0</td>\n",
              "      <td>0</td>\n",
              "      <td>7.9250</td>\n",
              "      <td>NaN</td>\n",
              "      <td>S</td>\n",
              "    </tr>\n",
              "    <tr>\n",
              "      <th>3</th>\n",
              "      <td>1</td>\n",
              "      <td>1</td>\n",
              "      <td>female</td>\n",
              "      <td>35.0</td>\n",
              "      <td>1</td>\n",
              "      <td>0</td>\n",
              "      <td>53.1000</td>\n",
              "      <td>C123</td>\n",
              "      <td>S</td>\n",
              "    </tr>\n",
              "    <tr>\n",
              "      <th>4</th>\n",
              "      <td>0</td>\n",
              "      <td>3</td>\n",
              "      <td>male</td>\n",
              "      <td>35.0</td>\n",
              "      <td>0</td>\n",
              "      <td>0</td>\n",
              "      <td>8.0500</td>\n",
              "      <td>NaN</td>\n",
              "      <td>S</td>\n",
              "    </tr>\n",
              "  </tbody>\n",
              "</table>\n",
              "</div>"
            ],
            "text/plain": [
              "   Survived  Pclass     Sex   Age  SibSp  Parch     Fare Cabin Embarked\n",
              "0         0       3    male  22.0      1      0   7.2500   NaN        S\n",
              "1         1       1  female  38.0      1      0  71.2833   C85        C\n",
              "2         1       3  female  26.0      0      0   7.9250   NaN        S\n",
              "3         1       1  female  35.0      1      0  53.1000  C123        S\n",
              "4         0       3    male  35.0      0      0   8.0500   NaN        S"
            ]
          },
          "metadata": {
            "tags": []
          },
          "execution_count": 13
        }
      ]
    },
    {
      "cell_type": "code",
      "metadata": {
        "id": "SYUdY-Sp_Em5",
        "colab_type": "code",
        "colab": {
          "base_uri": "https://localhost:8080/",
          "height": 142
        },
        "outputId": "260966f2-4987-4c37-8c73-cf92a02fd67f"
      },
      "source": [
        "table = pd.pivot_table(df,index='Sex')\n",
        "table"
      ],
      "execution_count": 15,
      "outputs": [
        {
          "output_type": "execute_result",
          "data": {
            "text/html": [
              "<div>\n",
              "<style scoped>\n",
              "    .dataframe tbody tr th:only-of-type {\n",
              "        vertical-align: middle;\n",
              "    }\n",
              "\n",
              "    .dataframe tbody tr th {\n",
              "        vertical-align: top;\n",
              "    }\n",
              "\n",
              "    .dataframe thead th {\n",
              "        text-align: right;\n",
              "    }\n",
              "</style>\n",
              "<table border=\"1\" class=\"dataframe\">\n",
              "  <thead>\n",
              "    <tr style=\"text-align: right;\">\n",
              "      <th></th>\n",
              "      <th>Age</th>\n",
              "      <th>Fare</th>\n",
              "      <th>Parch</th>\n",
              "      <th>Pclass</th>\n",
              "      <th>SibSp</th>\n",
              "      <th>Survived</th>\n",
              "    </tr>\n",
              "    <tr>\n",
              "      <th>Sex</th>\n",
              "      <th></th>\n",
              "      <th></th>\n",
              "      <th></th>\n",
              "      <th></th>\n",
              "      <th></th>\n",
              "      <th></th>\n",
              "    </tr>\n",
              "  </thead>\n",
              "  <tbody>\n",
              "    <tr>\n",
              "      <th>female</th>\n",
              "      <td>27.915709</td>\n",
              "      <td>44.479818</td>\n",
              "      <td>0.649682</td>\n",
              "      <td>2.159236</td>\n",
              "      <td>0.694268</td>\n",
              "      <td>0.742038</td>\n",
              "    </tr>\n",
              "    <tr>\n",
              "      <th>male</th>\n",
              "      <td>30.726645</td>\n",
              "      <td>25.523893</td>\n",
              "      <td>0.235702</td>\n",
              "      <td>2.389948</td>\n",
              "      <td>0.429809</td>\n",
              "      <td>0.188908</td>\n",
              "    </tr>\n",
              "  </tbody>\n",
              "</table>\n",
              "</div>"
            ],
            "text/plain": [
              "              Age       Fare     Parch    Pclass     SibSp  Survived\n",
              "Sex                                                                 \n",
              "female  27.915709  44.479818  0.649682  2.159236  0.694268  0.742038\n",
              "male    30.726645  25.523893  0.235702  2.389948  0.429809  0.188908"
            ]
          },
          "metadata": {
            "tags": []
          },
          "execution_count": 15
        }
      ]
    },
    {
      "cell_type": "code",
      "metadata": {
        "id": "birri_km_Amk",
        "colab_type": "code",
        "colab": {
          "base_uri": "https://localhost:8080/",
          "height": 266
        },
        "outputId": "9b3da082-ecbb-4c35-d449-d41407fdfb99"
      },
      "source": [
        "table = pd.pivot_table(df,index=['Sex','Pclass'])\n",
        "table"
      ],
      "execution_count": 16,
      "outputs": [
        {
          "output_type": "execute_result",
          "data": {
            "text/html": [
              "<div>\n",
              "<style scoped>\n",
              "    .dataframe tbody tr th:only-of-type {\n",
              "        vertical-align: middle;\n",
              "    }\n",
              "\n",
              "    .dataframe tbody tr th {\n",
              "        vertical-align: top;\n",
              "    }\n",
              "\n",
              "    .dataframe thead th {\n",
              "        text-align: right;\n",
              "    }\n",
              "</style>\n",
              "<table border=\"1\" class=\"dataframe\">\n",
              "  <thead>\n",
              "    <tr style=\"text-align: right;\">\n",
              "      <th></th>\n",
              "      <th></th>\n",
              "      <th>Age</th>\n",
              "      <th>Fare</th>\n",
              "      <th>Parch</th>\n",
              "      <th>SibSp</th>\n",
              "      <th>Survived</th>\n",
              "    </tr>\n",
              "    <tr>\n",
              "      <th>Sex</th>\n",
              "      <th>Pclass</th>\n",
              "      <th></th>\n",
              "      <th></th>\n",
              "      <th></th>\n",
              "      <th></th>\n",
              "      <th></th>\n",
              "    </tr>\n",
              "  </thead>\n",
              "  <tbody>\n",
              "    <tr>\n",
              "      <th rowspan=\"3\" valign=\"top\">female</th>\n",
              "      <th>1</th>\n",
              "      <td>34.611765</td>\n",
              "      <td>106.125798</td>\n",
              "      <td>0.457447</td>\n",
              "      <td>0.553191</td>\n",
              "      <td>0.968085</td>\n",
              "    </tr>\n",
              "    <tr>\n",
              "      <th>2</th>\n",
              "      <td>28.722973</td>\n",
              "      <td>21.970121</td>\n",
              "      <td>0.605263</td>\n",
              "      <td>0.486842</td>\n",
              "      <td>0.921053</td>\n",
              "    </tr>\n",
              "    <tr>\n",
              "      <th>3</th>\n",
              "      <td>21.750000</td>\n",
              "      <td>16.118810</td>\n",
              "      <td>0.798611</td>\n",
              "      <td>0.895833</td>\n",
              "      <td>0.500000</td>\n",
              "    </tr>\n",
              "    <tr>\n",
              "      <th rowspan=\"3\" valign=\"top\">male</th>\n",
              "      <th>1</th>\n",
              "      <td>41.281386</td>\n",
              "      <td>67.226127</td>\n",
              "      <td>0.278689</td>\n",
              "      <td>0.311475</td>\n",
              "      <td>0.368852</td>\n",
              "    </tr>\n",
              "    <tr>\n",
              "      <th>2</th>\n",
              "      <td>30.740707</td>\n",
              "      <td>19.741782</td>\n",
              "      <td>0.222222</td>\n",
              "      <td>0.342593</td>\n",
              "      <td>0.157407</td>\n",
              "    </tr>\n",
              "    <tr>\n",
              "      <th>3</th>\n",
              "      <td>26.507589</td>\n",
              "      <td>12.661633</td>\n",
              "      <td>0.224784</td>\n",
              "      <td>0.498559</td>\n",
              "      <td>0.135447</td>\n",
              "    </tr>\n",
              "  </tbody>\n",
              "</table>\n",
              "</div>"
            ],
            "text/plain": [
              "                     Age        Fare     Parch     SibSp  Survived\n",
              "Sex    Pclass                                                     \n",
              "female 1       34.611765  106.125798  0.457447  0.553191  0.968085\n",
              "       2       28.722973   21.970121  0.605263  0.486842  0.921053\n",
              "       3       21.750000   16.118810  0.798611  0.895833  0.500000\n",
              "male   1       41.281386   67.226127  0.278689  0.311475  0.368852\n",
              "       2       30.740707   19.741782  0.222222  0.342593  0.157407\n",
              "       3       26.507589   12.661633  0.224784  0.498559  0.135447"
            ]
          },
          "metadata": {
            "tags": []
          },
          "execution_count": 16
        }
      ]
    },
    {
      "cell_type": "markdown",
      "metadata": {
        "id": "pOZSVVI7_Vl6",
        "colab_type": "text"
      },
      "source": [
        "# **Different Agg Function on Different Columns**"
      ]
    },
    {
      "cell_type": "code",
      "metadata": {
        "id": "SvfkXU_H_a8S",
        "colab_type": "code",
        "colab": {
          "base_uri": "https://localhost:8080/",
          "height": 266
        },
        "outputId": "bbda15ef-4e58-434c-8d06-17d8fe7b7fcf"
      },
      "source": [
        "import numpy as np\n",
        "\n",
        "table = pd.pivot_table(df,index=['Sex','Pclass'],aggfunc={'Age':np.mean,'Survived':np.sum})\n",
        "table"
      ],
      "execution_count": 18,
      "outputs": [
        {
          "output_type": "execute_result",
          "data": {
            "text/html": [
              "<div>\n",
              "<style scoped>\n",
              "    .dataframe tbody tr th:only-of-type {\n",
              "        vertical-align: middle;\n",
              "    }\n",
              "\n",
              "    .dataframe tbody tr th {\n",
              "        vertical-align: top;\n",
              "    }\n",
              "\n",
              "    .dataframe thead th {\n",
              "        text-align: right;\n",
              "    }\n",
              "</style>\n",
              "<table border=\"1\" class=\"dataframe\">\n",
              "  <thead>\n",
              "    <tr style=\"text-align: right;\">\n",
              "      <th></th>\n",
              "      <th></th>\n",
              "      <th>Age</th>\n",
              "      <th>Survived</th>\n",
              "    </tr>\n",
              "    <tr>\n",
              "      <th>Sex</th>\n",
              "      <th>Pclass</th>\n",
              "      <th></th>\n",
              "      <th></th>\n",
              "    </tr>\n",
              "  </thead>\n",
              "  <tbody>\n",
              "    <tr>\n",
              "      <th rowspan=\"3\" valign=\"top\">female</th>\n",
              "      <th>1</th>\n",
              "      <td>34.611765</td>\n",
              "      <td>91</td>\n",
              "    </tr>\n",
              "    <tr>\n",
              "      <th>2</th>\n",
              "      <td>28.722973</td>\n",
              "      <td>70</td>\n",
              "    </tr>\n",
              "    <tr>\n",
              "      <th>3</th>\n",
              "      <td>21.750000</td>\n",
              "      <td>72</td>\n",
              "    </tr>\n",
              "    <tr>\n",
              "      <th rowspan=\"3\" valign=\"top\">male</th>\n",
              "      <th>1</th>\n",
              "      <td>41.281386</td>\n",
              "      <td>45</td>\n",
              "    </tr>\n",
              "    <tr>\n",
              "      <th>2</th>\n",
              "      <td>30.740707</td>\n",
              "      <td>17</td>\n",
              "    </tr>\n",
              "    <tr>\n",
              "      <th>3</th>\n",
              "      <td>26.507589</td>\n",
              "      <td>47</td>\n",
              "    </tr>\n",
              "  </tbody>\n",
              "</table>\n",
              "</div>"
            ],
            "text/plain": [
              "                     Age  Survived\n",
              "Sex    Pclass                     \n",
              "female 1       34.611765        91\n",
              "       2       28.722973        70\n",
              "       3       21.750000        72\n",
              "male   1       41.281386        45\n",
              "       2       30.740707        17\n",
              "       3       26.507589        47"
            ]
          },
          "metadata": {
            "tags": []
          },
          "execution_count": 18
        }
      ]
    }
  ]
}