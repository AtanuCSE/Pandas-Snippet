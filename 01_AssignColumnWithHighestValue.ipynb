{
  "nbformat": 4,
  "nbformat_minor": 0,
  "metadata": {
    "colab": {
      "name": "01_AssignColumnWithHighestValue.ipynb",
      "provenance": [],
      "collapsed_sections": [],
      "toc_visible": true
    },
    "kernelspec": {
      "name": "python3",
      "display_name": "Python 3"
    }
  },
  "cells": [
    {
      "cell_type": "markdown",
      "metadata": {
        "id": "-EUtPVnHOKXg",
        "colab_type": "text"
      },
      "source": [
        "# **Assign Column Name with Highest Value to New Row**\n",
        "# **Use of Pivot**\n",
        "# **Use of Pivot_Table**\n",
        "# **Use of idxmax**\n"
      ]
    },
    {
      "cell_type": "code",
      "metadata": {
        "id": "ajyQCpqyNxJw",
        "colab_type": "code",
        "colab": {}
      },
      "source": [
        "import pandas as pd\n",
        "import matplotlib.pyplot as plt\n"
      ],
      "execution_count": 1,
      "outputs": []
    },
    {
      "cell_type": "code",
      "metadata": {
        "id": "GpBKi-LDOWhW",
        "colab_type": "code",
        "colab": {
          "base_uri": "https://localhost:8080/",
          "height": 850
        },
        "outputId": "97ebd94f-ccbb-4bc2-c69b-2e2fe7b9cc9f"
      },
      "source": [
        "df = pd.read_csv('Price2.csv')\n",
        "print(df)"
      ],
      "execution_count": 2,
      "outputs": [
        {
          "output_type": "stream",
          "text": [
            "   Month  Year  Money\n",
            "0    Jan  2002    615\n",
            "1    Feb  2002    756\n",
            "2    Mar  2002    455\n",
            "3    Apr  2002    645\n",
            "4    May  2002    669\n",
            "5    Jun  2002    913\n",
            "6    Jul  2002    157\n",
            "7    Aug  2002    217\n",
            "8    Sep  2002    985\n",
            "9    Oct  2002    321\n",
            "10   Nov  2002    847\n",
            "11   Dec  2002    179\n",
            "12   Jan  2003    329\n",
            "13   Feb  2003    717\n",
            "14   Mar  2003    278\n",
            "15   Apr  2003    709\n",
            "16   May  2003    995\n",
            "17   Jun  2003    887\n",
            "18   Jul  2003    391\n",
            "19   Aug  2003    867\n",
            "20   Sep  2003    459\n",
            "21   Oct  2003    950\n",
            "22   Nov  2003    536\n",
            "23   Dec  2003    230\n",
            "24   Jan  2004    896\n",
            "25   Feb  2004    879\n",
            "26   Mar  2004    934\n",
            "27   Apr  2004    178\n",
            "28   May  2004    726\n",
            "29   Jun  2004    422\n",
            "30   Jul  2004    429\n",
            "31   Aug  2004    515\n",
            "32   Sep  2004    915\n",
            "33   Oct  2004    278\n",
            "34   Nov  2004    151\n",
            "35   Dec  2004    121\n",
            "36   Jan  2005    108\n",
            "37   Feb  2005    772\n",
            "38   Mar  2005    906\n",
            "39   Apr  2005    800\n",
            "40   May  2005    324\n",
            "41   Jun  2005    537\n",
            "42   Jul  2005    699\n",
            "43   Aug  2005    748\n",
            "44   Sep  2005    437\n",
            "45   Oct  2005    173\n",
            "46   Nov  2005    195\n",
            "47   Dec  2005    905\n"
          ],
          "name": "stdout"
        }
      ]
    },
    {
      "cell_type": "markdown",
      "metadata": {
        "id": "AsWI_xJNOh8M",
        "colab_type": "text"
      },
      "source": [
        "***Pivot for Formatting daraframe***"
      ]
    },
    {
      "cell_type": "code",
      "metadata": {
        "id": "ynKL1ek5OlkL",
        "colab_type": "code",
        "colab": {
          "base_uri": "https://localhost:8080/",
          "height": 255
        },
        "outputId": "493a4428-8486-47a5-f753-ff92a414eba9"
      },
      "source": [
        "data = df.pivot('Month', 'Year', 'Money')\n",
        "print(data)"
      ],
      "execution_count": 3,
      "outputs": [
        {
          "output_type": "stream",
          "text": [
            "Year   2002  2003  2004  2005\n",
            "Month                        \n",
            "Apr     645   709   178   800\n",
            "Aug     217   867   515   748\n",
            "Dec     179   230   121   905\n",
            "Feb     756   717   879   772\n",
            "Jan     615   329   896   108\n",
            "Jul     157   391   429   699\n",
            "Jun     913   887   422   537\n",
            "Mar     455   278   934   906\n",
            "May     669   995   726   324\n",
            "Nov     847   536   151   195\n",
            "Oct     321   950   278   173\n",
            "Sep     985   459   915   437\n"
          ],
          "name": "stdout"
        }
      ]
    },
    {
      "cell_type": "markdown",
      "metadata": {
        "id": "6jsMh5NfsSxj",
        "colab_type": "text"
      },
      "source": [
        "***pivot_table***\n",
        "\n",
        "Same as pivot but reset index/header"
      ]
    },
    {
      "cell_type": "code",
      "metadata": {
        "id": "qLm56HMbRlkn",
        "colab_type": "code",
        "colab": {
          "base_uri": "https://localhost:8080/",
          "height": 238
        },
        "outputId": "6d5929bd-77bd-4ca5-8558-91b3b63046dd"
      },
      "source": [
        "data=pd.pivot_table(df,index=['Month'],columns='Year',values='Money',aggfunc='sum').reset_index()\n",
        "print(data)"
      ],
      "execution_count": 4,
      "outputs": [
        {
          "output_type": "stream",
          "text": [
            "Year Month  2002  2003  2004  2005\n",
            "0      Apr   645   709   178   800\n",
            "1      Aug   217   867   515   748\n",
            "2      Dec   179   230   121   905\n",
            "3      Feb   756   717   879   772\n",
            "4      Jan   615   329   896   108\n",
            "5      Jul   157   391   429   699\n",
            "6      Jun   913   887   422   537\n",
            "7      Mar   455   278   934   906\n",
            "8      May   669   995   726   324\n",
            "9      Nov   847   536   151   195\n",
            "10     Oct   321   950   278   173\n",
            "11     Sep   985   459   915   437\n"
          ],
          "name": "stdout"
        }
      ]
    },
    {
      "cell_type": "code",
      "metadata": {
        "id": "vRfmVQfuPq6Q",
        "colab_type": "code",
        "colab": {
          "base_uri": "https://localhost:8080/",
          "height": 34
        },
        "outputId": "0164a3b9-79ef-4c31-f570-4393b52b3412"
      },
      "source": [
        "print(data.columns)\n"
      ],
      "execution_count": 5,
      "outputs": [
        {
          "output_type": "stream",
          "text": [
            "Index(['Month', 2002, 2003, 2004, 2005], dtype='object', name='Year')\n"
          ],
          "name": "stdout"
        }
      ]
    },
    {
      "cell_type": "markdown",
      "metadata": {
        "id": "26LJlKNpOzP6",
        "colab_type": "text"
      },
      "source": [
        "***idxmax***\n",
        "\n",
        "Find Top Valued Column"
      ]
    },
    {
      "cell_type": "code",
      "metadata": {
        "id": "_vgLYSfkOyUn",
        "colab_type": "code",
        "colab": {
          "base_uri": "https://localhost:8080/",
          "height": 238
        },
        "outputId": "446f72d0-c0dc-480d-9b76-c03561687d95"
      },
      "source": [
        "data['Max'] = data[[2002,2003,2004,2005]].idxmax(axis=1)\n",
        "# Remember the headers are integer Or String\n",
        "# For String header data['Max'] = data[['2002','2003','2004','2005']].idxmax(axis=1)\n",
        "# https://stackoverflow.com/questions/63194591/idxmax-is-not-working-in-case-of-pivot-table-pandas/63194739#63194739\n",
        "print(data)"
      ],
      "execution_count": 6,
      "outputs": [
        {
          "output_type": "stream",
          "text": [
            "Year Month  2002  2003  2004  2005   Max\n",
            "0      Apr   645   709   178   800  2005\n",
            "1      Aug   217   867   515   748  2003\n",
            "2      Dec   179   230   121   905  2005\n",
            "3      Feb   756   717   879   772  2004\n",
            "4      Jan   615   329   896   108  2004\n",
            "5      Jul   157   391   429   699  2005\n",
            "6      Jun   913   887   422   537  2002\n",
            "7      Mar   455   278   934   906  2004\n",
            "8      May   669   995   726   324  2003\n",
            "9      Nov   847   536   151   195  2002\n",
            "10     Oct   321   950   278   173  2003\n",
            "11     Sep   985   459   915   437  2002\n"
          ],
          "name": "stdout"
        }
      ]
    },
    {
      "cell_type": "code",
      "metadata": {
        "id": "mmWMjPHLiIOi",
        "colab_type": "code",
        "colab": {
          "base_uri": "https://localhost:8080/",
          "height": 102
        },
        "outputId": "03a6cc80-2d6b-42ef-db3e-f82a299e0de1"
      },
      "source": [
        "print(data['Max'].value_counts())"
      ],
      "execution_count": 7,
      "outputs": [
        {
          "output_type": "stream",
          "text": [
            "2005    3\n",
            "2004    3\n",
            "2003    3\n",
            "2002    3\n",
            "Name: Max, dtype: int64\n"
          ],
          "name": "stdout"
        }
      ]
    }
  ]
}