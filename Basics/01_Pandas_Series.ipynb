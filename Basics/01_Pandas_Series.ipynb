{
  "nbformat": 4,
  "nbformat_minor": 0,
  "metadata": {
    "colab": {
      "name": "05_Pandas_Series.ipynb",
      "provenance": []
    },
    "kernelspec": {
      "name": "python3",
      "display_name": "Python 3"
    }
  },
  "cells": [
    {
      "cell_type": "markdown",
      "metadata": {
        "id": "OJMInNtYKimi",
        "colab_type": "text"
      },
      "source": [
        "# **Pandas Series**\n",
        "___\n",
        "___\n"
      ]
    },
    {
      "cell_type": "markdown",
      "metadata": {
        "id": "kyqRqxwUKoG1",
        "colab_type": "text"
      },
      "source": [
        "Library creator Wes McKinney\n",
        "\n",
        "***Topics***\n",
        "\n",
        "*   Series\n",
        "*   NaN and None\n",
        "*   Dictionary in Pandas\n",
        "*   Accessing Pandas Series\n",
        "    - iloc\n",
        "    - loc\n",
        "*   NP and Pandas Series together\n",
        "*   iteritems"
      ]
    },
    {
      "cell_type": "code",
      "metadata": {
        "id": "5wuGjDGEKejx",
        "colab_type": "code",
        "colab": {}
      },
      "source": [
        "import pandas as pd"
      ],
      "execution_count": 2,
      "outputs": []
    },
    {
      "cell_type": "markdown",
      "metadata": {
        "id": "6QWNLbBnLKkM",
        "colab_type": "text"
      },
      "source": [
        "**Series**"
      ]
    },
    {
      "cell_type": "code",
      "metadata": {
        "id": "dJg5jzMULMnx",
        "colab_type": "code",
        "colab": {
          "base_uri": "https://localhost:8080/",
          "height": 85
        },
        "outputId": "ccaeb4ad-6252-4dfd-91ff-ad6f88dd31de"
      },
      "source": [
        "animals = ['Tiger', 'Bear', 'Moose']\n",
        "pd.Series(animals)"
      ],
      "execution_count": 3,
      "outputs": [
        {
          "output_type": "execute_result",
          "data": {
            "text/plain": [
              "0    Tiger\n",
              "1     Bear\n",
              "2    Moose\n",
              "dtype: object"
            ]
          },
          "metadata": {
            "tags": []
          },
          "execution_count": 3
        }
      ]
    },
    {
      "cell_type": "code",
      "metadata": {
        "id": "CQdUmIq6LWC1",
        "colab_type": "code",
        "colab": {
          "base_uri": "https://localhost:8080/",
          "height": 85
        },
        "outputId": "ff009bbb-eb16-40fc-dad8-288cdecc44cf"
      },
      "source": [
        "numbers = [1, 2, 3]\n",
        "pd.Series(numbers)"
      ],
      "execution_count": 4,
      "outputs": [
        {
          "output_type": "execute_result",
          "data": {
            "text/plain": [
              "0    1\n",
              "1    2\n",
              "2    3\n",
              "dtype: int64"
            ]
          },
          "metadata": {
            "tags": []
          },
          "execution_count": 4
        }
      ]
    },
    {
      "cell_type": "code",
      "metadata": {
        "id": "FBCIKjjuLaCl",
        "colab_type": "code",
        "colab": {
          "base_uri": "https://localhost:8080/",
          "height": 85
        },
        "outputId": "7bdf84d0-bc40-47e7-9c96-93f3bc33ace3"
      },
      "source": [
        "animals = ['Tiger', 10 , None]\n",
        "pd.Series(animals)"
      ],
      "execution_count": 5,
      "outputs": [
        {
          "output_type": "execute_result",
          "data": {
            "text/plain": [
              "0    Tiger\n",
              "1       10\n",
              "2     None\n",
              "dtype: object"
            ]
          },
          "metadata": {
            "tags": []
          },
          "execution_count": 5
        }
      ]
    },
    {
      "cell_type": "code",
      "metadata": {
        "id": "8RBmFmsxLmCG",
        "colab_type": "code",
        "colab": {
          "base_uri": "https://localhost:8080/",
          "height": 85
        },
        "outputId": "7d094833-7f9a-4785-947f-2b4cdb834a63"
      },
      "source": [
        "numbers = [1, 2, None]\n",
        "pd.Series(numbers)"
      ],
      "execution_count": 6,
      "outputs": [
        {
          "output_type": "execute_result",
          "data": {
            "text/plain": [
              "0    1.0\n",
              "1    2.0\n",
              "2    NaN\n",
              "dtype: float64"
            ]
          },
          "metadata": {
            "tags": []
          },
          "execution_count": 6
        }
      ]
    },
    {
      "cell_type": "markdown",
      "metadata": {
        "id": "16X8vijWL-UQ",
        "colab_type": "text"
      },
      "source": [
        "**NaN and None**"
      ]
    },
    {
      "cell_type": "code",
      "metadata": {
        "id": "haFgWs1EMCBG",
        "colab_type": "code",
        "colab": {
          "base_uri": "https://localhost:8080/",
          "height": 34
        },
        "outputId": "507d1833-cadd-4730-f002-91d309981cec"
      },
      "source": [
        "import numpy as np\n",
        "np.nan == None"
      ],
      "execution_count": 7,
      "outputs": [
        {
          "output_type": "execute_result",
          "data": {
            "text/plain": [
              "False"
            ]
          },
          "metadata": {
            "tags": []
          },
          "execution_count": 7
        }
      ]
    },
    {
      "cell_type": "code",
      "metadata": {
        "id": "A9HYMHJLMIeR",
        "colab_type": "code",
        "colab": {
          "base_uri": "https://localhost:8080/",
          "height": 34
        },
        "outputId": "f7362958-0110-40a7-b00f-2afbb82db306"
      },
      "source": [
        "np.nan == np.nan"
      ],
      "execution_count": 8,
      "outputs": [
        {
          "output_type": "execute_result",
          "data": {
            "text/plain": [
              "False"
            ]
          },
          "metadata": {
            "tags": []
          },
          "execution_count": 8
        }
      ]
    },
    {
      "cell_type": "code",
      "metadata": {
        "id": "qejXYR1sMLp2",
        "colab_type": "code",
        "colab": {
          "base_uri": "https://localhost:8080/",
          "height": 34
        },
        "outputId": "93a66861-1764-449a-e29c-b14079d57ab8"
      },
      "source": [
        "np.isnan(np.nan)"
      ],
      "execution_count": 9,
      "outputs": [
        {
          "output_type": "execute_result",
          "data": {
            "text/plain": [
              "True"
            ]
          },
          "metadata": {
            "tags": []
          },
          "execution_count": 9
        }
      ]
    },
    {
      "cell_type": "markdown",
      "metadata": {
        "id": "Z41gTu9WMtEx",
        "colab_type": "text"
      },
      "source": [
        "**Dictionary in Pandas**"
      ]
    },
    {
      "cell_type": "code",
      "metadata": {
        "id": "43hDWYBHMwQG",
        "colab_type": "code",
        "colab": {
          "base_uri": "https://localhost:8080/",
          "height": 187
        },
        "outputId": "4d592770-15e8-4b13-9512-a192d60b06c9"
      },
      "source": [
        "sports = {'Archery': 'Bhutan',\n",
        "          'Golf': 'Scotland',\n",
        "          'Sumo': 'Japan',\n",
        "          'Taekwondo': 'South Korea'}\n",
        "s = pd.Series(sports)\n",
        "print(s)\n",
        "print(s.index)\n",
        "\n",
        "# Another way\n",
        "s = pd.Series(['Tiger', 'Bear', 'Moose'], index=['India', 'America', 'Canada'])\n",
        "print(s)"
      ],
      "execution_count": 12,
      "outputs": [
        {
          "output_type": "stream",
          "text": [
            "Archery           Bhutan\n",
            "Golf            Scotland\n",
            "Sumo               Japan\n",
            "Taekwondo    South Korea\n",
            "dtype: object\n",
            "Index(['Archery', 'Golf', 'Sumo', 'Taekwondo'], dtype='object')\n",
            "India      Tiger\n",
            "America     Bear\n",
            "Canada     Moose\n",
            "dtype: object\n"
          ],
          "name": "stdout"
        }
      ]
    },
    {
      "cell_type": "markdown",
      "metadata": {
        "id": "jgrSI7WHNh_x",
        "colab_type": "text"
      },
      "source": [
        "subset of dictionary"
      ]
    },
    {
      "cell_type": "code",
      "metadata": {
        "id": "_iNkG2AYNkXH",
        "colab_type": "code",
        "colab": {
          "base_uri": "https://localhost:8080/",
          "height": 85
        },
        "outputId": "86415f4e-a08d-4c04-d737-e6a0039f103c"
      },
      "source": [
        "sports = {'Archery': 'Bhutan',\n",
        "          'Golf': 'Scotland',\n",
        "          'Sumo': 'Japan',\n",
        "          'Taekwondo': 'South Korea'}\n",
        "s = pd.Series(sports, index=['Golf', 'Sumo', 'Hockey'])\n",
        "print(s)"
      ],
      "execution_count": 13,
      "outputs": [
        {
          "output_type": "stream",
          "text": [
            "Golf      Scotland\n",
            "Sumo         Japan\n",
            "Hockey         NaN\n",
            "dtype: object\n"
          ],
          "name": "stdout"
        }
      ]
    },
    {
      "cell_type": "markdown",
      "metadata": {
        "id": "RDnaf2iaNtuE",
        "colab_type": "text"
      },
      "source": [
        "**Accessing Pandas Series**\n",
        "\n",
        "iloc, loc"
      ]
    },
    {
      "cell_type": "code",
      "metadata": {
        "id": "OxghoO-1N0dD",
        "colab_type": "code",
        "colab": {
          "base_uri": "https://localhost:8080/",
          "height": 102
        },
        "outputId": "68d3d51e-5bcf-4bac-908f-c7718a39250f"
      },
      "source": [
        "sports = {'Archery': 'Bhutan',\n",
        "          'Golf': 'Scotland',\n",
        "          'Sumo': 'Japan',\n",
        "          'Taekwondo': 'South Korea'}\n",
        "s = pd.Series(sports)\n",
        "print(s)"
      ],
      "execution_count": 14,
      "outputs": [
        {
          "output_type": "stream",
          "text": [
            "Archery           Bhutan\n",
            "Golf            Scotland\n",
            "Sumo               Japan\n",
            "Taekwondo    South Korea\n",
            "dtype: object\n"
          ],
          "name": "stdout"
        }
      ]
    },
    {
      "cell_type": "code",
      "metadata": {
        "id": "b7Dj1qTVOHkW",
        "colab_type": "code",
        "colab": {
          "base_uri": "https://localhost:8080/",
          "height": 85
        },
        "outputId": "ede7170b-c5a3-425d-af94-6f0f1c55321f"
      },
      "source": [
        "print(s.iloc[3])\n",
        "print(s.loc['Sumo'])\n",
        "print(s[3])\n",
        "print(s['Sumo'])"
      ],
      "execution_count": 15,
      "outputs": [
        {
          "output_type": "stream",
          "text": [
            "South Korea\n",
            "Japan\n",
            "South Korea\n",
            "Japan\n"
          ],
          "name": "stdout"
        }
      ]
    },
    {
      "cell_type": "markdown",
      "metadata": {
        "id": "P3RhCI4WOlh6",
        "colab_type": "text"
      },
      "source": [
        "Be aware of the Integer index"
      ]
    },
    {
      "cell_type": "code",
      "metadata": {
        "id": "ck9Ddd73OsOv",
        "colab_type": "code",
        "colab": {
          "base_uri": "https://localhost:8080/",
          "height": 34
        },
        "outputId": "48c64f5e-f7a9-41aa-91cb-2c8ef96bd6c7"
      },
      "source": [
        "sports = {99: 'Bhutan',\n",
        "          100: 'Scotland',\n",
        "          101: 'Japan',\n",
        "          102: 'South Korea'}\n",
        "s = pd.Series(sports)\n",
        "\n",
        "# s[0] \n",
        "# This will be error\n",
        "# iloc will work\n",
        "print(s.iloc[0])"
      ],
      "execution_count": 17,
      "outputs": [
        {
          "output_type": "stream",
          "text": [
            "Bhutan\n"
          ],
          "name": "stdout"
        }
      ]
    },
    {
      "cell_type": "markdown",
      "metadata": {
        "id": "cNnmnjADPHOE",
        "colab_type": "text"
      },
      "source": [
        "**NP and Pandas Series together**"
      ]
    },
    {
      "cell_type": "code",
      "metadata": {
        "id": "n2nbvdAMPPsg",
        "colab_type": "code",
        "colab": {
          "base_uri": "https://localhost:8080/",
          "height": 238
        },
        "outputId": "54fd68e8-884b-4c77-be27-8f572aa45be5"
      },
      "source": [
        "s = pd.Series([100.00, 120.00, 101.00, 3.00])\n",
        "print(s)\n",
        "\n",
        "total = 0\n",
        "for item in s:\n",
        "    total+=item\n",
        "print(total)\n",
        "\n",
        "import numpy as np\n",
        "\n",
        "total = np.sum(s)\n",
        "print(total)\n",
        "\n",
        "#this creates a big series of random numbers\n",
        "s = pd.Series(np.random.randint(0,10,5))\n",
        "s.head()"
      ],
      "execution_count": 20,
      "outputs": [
        {
          "output_type": "stream",
          "text": [
            "0    100.0\n",
            "1    120.0\n",
            "2    101.0\n",
            "3      3.0\n",
            "dtype: float64\n",
            "324.0\n",
            "324.0\n"
          ],
          "name": "stdout"
        },
        {
          "output_type": "execute_result",
          "data": {
            "text/plain": [
              "0    8\n",
              "1    1\n",
              "2    3\n",
              "3    4\n",
              "4    5\n",
              "dtype: int64"
            ]
          },
          "metadata": {
            "tags": []
          },
          "execution_count": 20
        }
      ]
    },
    {
      "cell_type": "code",
      "metadata": {
        "id": "g1pFnHIBQG6n",
        "colab_type": "code",
        "colab": {
          "base_uri": "https://localhost:8080/",
          "height": 34
        },
        "outputId": "f8d7ad7d-aba8-4fb1-8c83-8bc189c64178"
      },
      "source": [
        "%%timeit -n 100\n",
        "summary = np.sum(s)"
      ],
      "execution_count": 21,
      "outputs": [
        {
          "output_type": "stream",
          "text": [
            "100 loops, best of 3: 71.4 µs per loop\n"
          ],
          "name": "stdout"
        }
      ]
    },
    {
      "cell_type": "code",
      "metadata": {
        "id": "ad0TogXvWxn0",
        "colab_type": "code",
        "colab": {
          "base_uri": "https://localhost:8080/",
          "height": 119
        },
        "outputId": "c6c0086a-dd7f-48f0-8836-5658eda8a83c"
      },
      "source": [
        "s+=2 #adds two to each item in s using broadcasting\n",
        "s.head()\n"
      ],
      "execution_count": 22,
      "outputs": [
        {
          "output_type": "execute_result",
          "data": {
            "text/plain": [
              "0    10\n",
              "1     3\n",
              "2     5\n",
              "3     6\n",
              "4     7\n",
              "dtype: int64"
            ]
          },
          "metadata": {
            "tags": []
          },
          "execution_count": 22
        }
      ]
    },
    {
      "cell_type": "markdown",
      "metadata": {
        "id": "aVB-7rFwW-p4",
        "colab_type": "text"
      },
      "source": [
        "**iteritems**"
      ]
    },
    {
      "cell_type": "code",
      "metadata": {
        "id": "aC2TI3GdXBDN",
        "colab_type": "code",
        "colab": {
          "base_uri": "https://localhost:8080/",
          "height": 119
        },
        "outputId": "fc49d4fc-fa51-41f6-aebf-a1579badf1b3"
      },
      "source": [
        "for label, value in s.iteritems():\n",
        "    s.loc[label]= value+2\n",
        "\n",
        "print(s)"
      ],
      "execution_count": 25,
      "outputs": [
        {
          "output_type": "stream",
          "text": [
            "0    14\n",
            "1     7\n",
            "2     9\n",
            "3    10\n",
            "4    11\n",
            "dtype: int64\n"
          ],
          "name": "stdout"
        }
      ]
    },
    {
      "cell_type": "code",
      "metadata": {
        "id": "3VlJHzxJXnp_",
        "colab_type": "code",
        "colab": {
          "base_uri": "https://localhost:8080/",
          "height": 102
        },
        "outputId": "24c1be05-1694-48fe-e6ed-131dace9c495"
      },
      "source": [
        "s = pd.Series([1, 2, 3])\n",
        "s.loc['Animal'] = 'Bears'\n",
        "s"
      ],
      "execution_count": 26,
      "outputs": [
        {
          "output_type": "execute_result",
          "data": {
            "text/plain": [
              "0             1\n",
              "1             2\n",
              "2             3\n",
              "Animal    Bears\n",
              "dtype: object"
            ]
          },
          "metadata": {
            "tags": []
          },
          "execution_count": 26
        }
      ]
    },
    {
      "cell_type": "code",
      "metadata": {
        "id": "22tp_e-2X9Nv",
        "colab_type": "code",
        "colab": {
          "base_uri": "https://localhost:8080/",
          "height": 170
        },
        "outputId": "b1968ea1-d1a8-40eb-857e-7260fd61cc85"
      },
      "source": [
        "original_sports = pd.Series({'Archery': 'Bhutan',\n",
        "                             'Golf': 'Scotland',\n",
        "                             'Sumo': 'Japan',\n",
        "                             'Taekwondo': 'South Korea'})\n",
        "cricket_loving_countries = pd.Series(['Australia',\n",
        "                                      'Barbados',\n",
        "                                      'Pakistan',\n",
        "                                      'England'], \n",
        "                                   index=['Cricket',\n",
        "                                          'Cricket',\n",
        "                                          'Cricket',\n",
        "                                          'Cricket'])\n",
        "all_countries = original_sports.append(cricket_loving_countries)\n",
        "all_countries"
      ],
      "execution_count": 28,
      "outputs": [
        {
          "output_type": "execute_result",
          "data": {
            "text/plain": [
              "Archery           Bhutan\n",
              "Golf            Scotland\n",
              "Sumo               Japan\n",
              "Taekwondo    South Korea\n",
              "Cricket        Australia\n",
              "Cricket         Barbados\n",
              "Cricket         Pakistan\n",
              "Cricket          England\n",
              "dtype: object"
            ]
          },
          "metadata": {
            "tags": []
          },
          "execution_count": 28
        }
      ]
    }
  ]
}
